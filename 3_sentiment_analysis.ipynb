{
 "cells": [
  {
   "cell_type": "code",
   "execution_count": 1,
   "id": "54d21fbe",
   "metadata": {},
   "outputs": [],
   "source": [
    "# Import necessary modules\n",
    "import pandas as pd\n",
    "import numpy as np\n",
    "import textblob\n",
    "import nltk\n",
    "import spacy\n",
    "import os"
   ]
  },
  {
   "cell_type": "code",
   "execution_count": 2,
   "id": "97260ceb",
   "metadata": {},
   "outputs": [],
   "source": [
    "# reading the CSV_file using pandas\n",
    "tweets_data = pd.read_csv(\"Cleaned_Data.csv\")"
   ]
  },
  {
   "cell_type": "code",
   "execution_count": 3,
   "id": "be7ab5f4",
   "metadata": {},
   "outputs": [
    {
     "data": {
      "text/html": [
       "<div>\n",
       "<style scoped>\n",
       "    .dataframe tbody tr th:only-of-type {\n",
       "        vertical-align: middle;\n",
       "    }\n",
       "\n",
       "    .dataframe tbody tr th {\n",
       "        vertical-align: top;\n",
       "    }\n",
       "\n",
       "    .dataframe thead th {\n",
       "        text-align: right;\n",
       "    }\n",
       "</style>\n",
       "<table border=\"1\" class=\"dataframe\">\n",
       "  <thead>\n",
       "    <tr style=\"text-align: right;\">\n",
       "      <th></th>\n",
       "      <th>date</th>\n",
       "      <th>user</th>\n",
       "      <th>cleaned_text</th>\n",
       "    </tr>\n",
       "  </thead>\n",
       "  <tbody>\n",
       "    <tr>\n",
       "      <th>0</th>\n",
       "      <td>2009-04-07 10:49:45</td>\n",
       "      <td>_TheSpecialOne_</td>\n",
       "      <td>NaN</td>\n",
       "    </tr>\n",
       "    <tr>\n",
       "      <th>1</th>\n",
       "      <td>2009-04-07 10:49:49</td>\n",
       "      <td>scotthamilton</td>\n",
       "      <td>is upset that he  update his Facebook by texti...</td>\n",
       "    </tr>\n",
       "    <tr>\n",
       "      <th>2</th>\n",
       "      <td>2009-04-07 10:49:53</td>\n",
       "      <td>mattycus</td>\n",
       "      <td>I dived many times for the ball Managed to sav...</td>\n",
       "    </tr>\n",
       "    <tr>\n",
       "      <th>3</th>\n",
       "      <td>2009-04-07 10:49:57</td>\n",
       "      <td>Karoli</td>\n",
       "      <td>no  not behaving at all  mad why am i here bec...</td>\n",
       "    </tr>\n",
       "    <tr>\n",
       "      <th>4</th>\n",
       "      <td>2009-04-07 10:49:57</td>\n",
       "      <td>ElleCTF</td>\n",
       "      <td>my whole body feels itchy and like its on fire</td>\n",
       "    </tr>\n",
       "  </tbody>\n",
       "</table>\n",
       "</div>"
      ],
      "text/plain": [
       "                  date             user  \\\n",
       "0  2009-04-07 10:49:45  _TheSpecialOne_   \n",
       "1  2009-04-07 10:49:49    scotthamilton   \n",
       "2  2009-04-07 10:49:53         mattycus   \n",
       "3  2009-04-07 10:49:57           Karoli   \n",
       "4  2009-04-07 10:49:57          ElleCTF   \n",
       "\n",
       "                                        cleaned_text  \n",
       "0                                                NaN  \n",
       "1  is upset that he  update his Facebook by texti...  \n",
       "2  I dived many times for the ball Managed to sav...  \n",
       "3  no  not behaving at all  mad why am i here bec...  \n",
       "4     my whole body feels itchy and like its on fire  "
      ]
     },
     "execution_count": 3,
     "metadata": {},
     "output_type": "execute_result"
    }
   ],
   "source": [
    "tweets_data.head()"
   ]
  },
  {
   "cell_type": "code",
   "execution_count": 4,
   "id": "61b3a5c2",
   "metadata": {},
   "outputs": [
    {
     "data": {
      "text/html": [
       "<div>\n",
       "<style scoped>\n",
       "    .dataframe tbody tr th:only-of-type {\n",
       "        vertical-align: middle;\n",
       "    }\n",
       "\n",
       "    .dataframe tbody tr th {\n",
       "        vertical-align: top;\n",
       "    }\n",
       "\n",
       "    .dataframe thead th {\n",
       "        text-align: right;\n",
       "    }\n",
       "</style>\n",
       "<table border=\"1\" class=\"dataframe\">\n",
       "  <thead>\n",
       "    <tr style=\"text-align: right;\">\n",
       "      <th></th>\n",
       "      <th>date</th>\n",
       "      <th>cleaned_text</th>\n",
       "    </tr>\n",
       "  </thead>\n",
       "  <tbody>\n",
       "    <tr>\n",
       "      <th>0</th>\n",
       "      <td>2009-04-07 10:49:45</td>\n",
       "      <td>NaN</td>\n",
       "    </tr>\n",
       "    <tr>\n",
       "      <th>1</th>\n",
       "      <td>2009-04-07 10:49:49</td>\n",
       "      <td>is upset that he  update his Facebook by texti...</td>\n",
       "    </tr>\n",
       "    <tr>\n",
       "      <th>2</th>\n",
       "      <td>2009-04-07 10:49:53</td>\n",
       "      <td>I dived many times for the ball Managed to sav...</td>\n",
       "    </tr>\n",
       "    <tr>\n",
       "      <th>3</th>\n",
       "      <td>2009-04-07 10:49:57</td>\n",
       "      <td>no  not behaving at all  mad why am i here bec...</td>\n",
       "    </tr>\n",
       "    <tr>\n",
       "      <th>4</th>\n",
       "      <td>2009-04-07 10:49:57</td>\n",
       "      <td>my whole body feels itchy and like its on fire</td>\n",
       "    </tr>\n",
       "  </tbody>\n",
       "</table>\n",
       "</div>"
      ],
      "text/plain": [
       "                  date                                       cleaned_text\n",
       "0  2009-04-07 10:49:45                                                NaN\n",
       "1  2009-04-07 10:49:49  is upset that he  update his Facebook by texti...\n",
       "2  2009-04-07 10:49:53  I dived many times for the ball Managed to sav...\n",
       "3  2009-04-07 10:49:57  no  not behaving at all  mad why am i here bec...\n",
       "4  2009-04-07 10:49:57     my whole body feels itchy and like its on fire"
      ]
     },
     "execution_count": 4,
     "metadata": {},
     "output_type": "execute_result"
    }
   ],
   "source": [
    "tweets_data = tweets_data.drop(columns=\"user\")\n",
    "tweets_data.head()"
   ]
  },
  {
   "cell_type": "code",
   "execution_count": 5,
   "id": "bd2e5376",
   "metadata": {},
   "outputs": [
    {
     "data": {
      "text/plain": [
       "date            object\n",
       "cleaned_text    object\n",
       "dtype: object"
      ]
     },
     "execution_count": 5,
     "metadata": {},
     "output_type": "execute_result"
    }
   ],
   "source": [
    "tweets_data.dtypes"
   ]
  },
  {
   "cell_type": "code",
   "execution_count": 6,
   "id": "367b8141",
   "metadata": {},
   "outputs": [
    {
     "name": "stdout",
     "output_type": "stream",
     "text": [
      "Number of missing values: 22848\n",
      "Number of duplicate_rows: 897\n"
     ]
    }
   ],
   "source": [
    "# Check for missing values\n",
    "missing_values = tweets_data['cleaned_text'].isnull().sum()\n",
    "print(f\"Number of missing values: {missing_values}\")\n",
    "\n",
    "# check for duplicates\n",
    "duplicate_rows = tweets_data.duplicated().sum()\n",
    "print(f\"Number of duplicate_rows: {duplicate_rows}\")"
   ]
  },
  {
   "cell_type": "code",
   "execution_count": 7,
   "id": "2e76f6b3",
   "metadata": {},
   "outputs": [],
   "source": [
    "# droping null values\n",
    "tweets_data = tweets_data.dropna()\n",
    "\n",
    "# check for duplicates\n",
    "tweets_data = tweets_data.drop_duplicates()"
   ]
  },
  {
   "cell_type": "code",
   "execution_count": 8,
   "id": "ae81e260",
   "metadata": {},
   "outputs": [
    {
     "data": {
      "text/plain": [
       "(1574935, 2)"
      ]
     },
     "execution_count": 8,
     "metadata": {},
     "output_type": "execute_result"
    }
   ],
   "source": [
    "# Check the new shape of tweets_data\n",
    "tweets_data.shape"
   ]
  },
  {
   "cell_type": "code",
   "execution_count": 9,
   "id": "62a154df",
   "metadata": {},
   "outputs": [],
   "source": [
    "# importing the text analyzer module called textblob\n",
    "from textblob import *\n",
    "\n",
    "def getSubjectivity(text):\n",
    "    return TextBlob(text).sentiment.subjectivity\n",
    "\n",
    "# Create a function to get the polarity\n",
    "def getPolarity(text):\n",
    "    return  TextBlob(text).sentiment.polarity"
   ]
  },
  {
   "cell_type": "code",
   "execution_count": 10,
   "id": "6e4cbe44",
   "metadata": {},
   "outputs": [],
   "source": [
    "# Convert non-string entries to string\n",
    "tweets_data['cleaned_text'] = tweets_data['cleaned_text'].astype(str)\n",
    "\n",
    "# Apply sentiment analysis function\n",
    "tweets_data['Subjectivity'] = tweets_data['cleaned_text'].apply(getSubjectivity)"
   ]
  },
  {
   "cell_type": "code",
   "execution_count": 11,
   "id": "6a40b9bc",
   "metadata": {},
   "outputs": [],
   "source": [
    "tweets_data['Polarity'] = tweets_data['cleaned_text'].apply(getPolarity)"
   ]
  },
  {
   "cell_type": "code",
   "execution_count": 12,
   "id": "87e39109",
   "metadata": {
    "code_folding": []
   },
   "outputs": [],
   "source": [
    "def getAnalysis(row):\n",
    "    if row['Subjectivity'] > 0.5:\n",
    "            if row['Polarity'] > 0:\n",
    "                return 'Positive'\n",
    "            elif row['Polarity'] < 0:\n",
    "                return 'Negative'\n",
    "            else:\n",
    "                return 'Neutral'\n",
    "    else:\n",
    "        return 'Neutral'  \n",
    "# Applying categorization to your DataFrame\n",
    "tweets_data['Sentiment'] = tweets_data.apply(getAnalysis, axis=1)"
   ]
  },
  {
   "cell_type": "code",
   "execution_count": 13,
   "id": "138bd6a8",
   "metadata": {},
   "outputs": [],
   "source": [
    "# getting the label to the corresponding sentiment label.\n",
    "tweets_data['Sentiment_label']=tweets_data['Sentiment'].map({'Positive':1,'Neutral':0,'Negative':-1})"
   ]
  },
  {
   "cell_type": "code",
   "execution_count": 14,
   "id": "313bc2a4",
   "metadata": {},
   "outputs": [],
   "source": [
    "tweets_data.to_csv(\"Tweets_with_sentiment.csv\")"
   ]
  },
  {
   "cell_type": "code",
   "execution_count": 15,
   "id": "9333e25e",
   "metadata": {},
   "outputs": [
    {
     "data": {
      "text/plain": [
       "Sentiment\n",
       "Neutral     973048\n",
       "Positive    383584\n",
       "Negative    218303\n",
       "Name: count, dtype: int64"
      ]
     },
     "execution_count": 15,
     "metadata": {},
     "output_type": "execute_result"
    }
   ],
   "source": [
    "tweets_data.Sentiment.value_counts()"
   ]
  },
  {
   "cell_type": "code",
   "execution_count": 16,
   "id": "be04664c",
   "metadata": {},
   "outputs": [
    {
     "data": {
      "text/html": [
       "<div>\n",
       "<style scoped>\n",
       "    .dataframe tbody tr th:only-of-type {\n",
       "        vertical-align: middle;\n",
       "    }\n",
       "\n",
       "    .dataframe tbody tr th {\n",
       "        vertical-align: top;\n",
       "    }\n",
       "\n",
       "    .dataframe thead th {\n",
       "        text-align: right;\n",
       "    }\n",
       "</style>\n",
       "<table border=\"1\" class=\"dataframe\">\n",
       "  <thead>\n",
       "    <tr style=\"text-align: right;\">\n",
       "      <th></th>\n",
       "      <th>date</th>\n",
       "      <th>cleaned_text</th>\n",
       "      <th>Subjectivity</th>\n",
       "      <th>Polarity</th>\n",
       "      <th>Sentiment</th>\n",
       "      <th>Sentiment_label</th>\n",
       "    </tr>\n",
       "  </thead>\n",
       "  <tbody>\n",
       "    <tr>\n",
       "      <th>1</th>\n",
       "      <td>2009-04-07 10:49:49</td>\n",
       "      <td>is upset that he  update his Facebook by texti...</td>\n",
       "      <td>0.000000</td>\n",
       "      <td>0.000000</td>\n",
       "      <td>Neutral</td>\n",
       "      <td>0</td>\n",
       "    </tr>\n",
       "    <tr>\n",
       "      <th>2</th>\n",
       "      <td>2009-04-07 10:49:53</td>\n",
       "      <td>I dived many times for the ball Managed to sav...</td>\n",
       "      <td>0.500000</td>\n",
       "      <td>0.500000</td>\n",
       "      <td>Neutral</td>\n",
       "      <td>0</td>\n",
       "    </tr>\n",
       "    <tr>\n",
       "      <th>3</th>\n",
       "      <td>2009-04-07 10:49:57</td>\n",
       "      <td>no  not behaving at all  mad why am i here bec...</td>\n",
       "      <td>1.000000</td>\n",
       "      <td>-0.625000</td>\n",
       "      <td>Negative</td>\n",
       "      <td>-1</td>\n",
       "    </tr>\n",
       "    <tr>\n",
       "      <th>4</th>\n",
       "      <td>2009-04-07 10:49:57</td>\n",
       "      <td>my whole body feels itchy and like its on fire</td>\n",
       "      <td>0.400000</td>\n",
       "      <td>0.200000</td>\n",
       "      <td>Neutral</td>\n",
       "      <td>0</td>\n",
       "    </tr>\n",
       "    <tr>\n",
       "      <th>5</th>\n",
       "      <td>2009-04-07 10:50:00</td>\n",
       "      <td>not the whole crew</td>\n",
       "      <td>0.400000</td>\n",
       "      <td>0.200000</td>\n",
       "      <td>Neutral</td>\n",
       "      <td>0</td>\n",
       "    </tr>\n",
       "    <tr>\n",
       "      <th>...</th>\n",
       "      <td>...</td>\n",
       "      <td>...</td>\n",
       "      <td>...</td>\n",
       "      <td>...</td>\n",
       "      <td>...</td>\n",
       "      <td>...</td>\n",
       "    </tr>\n",
       "    <tr>\n",
       "      <th>1598122</th>\n",
       "      <td>2009-06-25 22:58:28</td>\n",
       "      <td>Tried to get the mutant Fawkes to follow me bu...</td>\n",
       "      <td>0.700000</td>\n",
       "      <td>-0.100000</td>\n",
       "      <td>Negative</td>\n",
       "      <td>-1</td>\n",
       "    </tr>\n",
       "    <tr>\n",
       "      <th>1598123</th>\n",
       "      <td>2009-06-25 22:58:28</td>\n",
       "      <td>Gmail is down</td>\n",
       "      <td>0.288889</td>\n",
       "      <td>-0.155556</td>\n",
       "      <td>Neutral</td>\n",
       "      <td>0</td>\n",
       "    </tr>\n",
       "    <tr>\n",
       "      <th>1598124</th>\n",
       "      <td>2009-06-25 22:58:30</td>\n",
       "      <td>Sounds like a rival is flagging your ads Not m...</td>\n",
       "      <td>0.200000</td>\n",
       "      <td>-0.100000</td>\n",
       "      <td>Neutral</td>\n",
       "      <td>0</td>\n",
       "    </tr>\n",
       "    <tr>\n",
       "      <th>1598125</th>\n",
       "      <td>2009-06-25 22:58:30</td>\n",
       "      <td>rest in peace Farrah So sad</td>\n",
       "      <td>1.000000</td>\n",
       "      <td>-0.500000</td>\n",
       "      <td>Negative</td>\n",
       "      <td>-1</td>\n",
       "    </tr>\n",
       "    <tr>\n",
       "      <th>1598126</th>\n",
       "      <td>2009-06-25 22:58:31</td>\n",
       "      <td>has to resit exams over summer  wishes he work...</td>\n",
       "      <td>0.166667</td>\n",
       "      <td>0.075000</td>\n",
       "      <td>Neutral</td>\n",
       "      <td>0</td>\n",
       "    </tr>\n",
       "  </tbody>\n",
       "</table>\n",
       "<p>1574935 rows × 6 columns</p>\n",
       "</div>"
      ],
      "text/plain": [
       "                        date  \\\n",
       "1        2009-04-07 10:49:49   \n",
       "2        2009-04-07 10:49:53   \n",
       "3        2009-04-07 10:49:57   \n",
       "4        2009-04-07 10:49:57   \n",
       "5        2009-04-07 10:50:00   \n",
       "...                      ...   \n",
       "1598122  2009-06-25 22:58:28   \n",
       "1598123  2009-06-25 22:58:28   \n",
       "1598124  2009-06-25 22:58:30   \n",
       "1598125  2009-06-25 22:58:30   \n",
       "1598126  2009-06-25 22:58:31   \n",
       "\n",
       "                                              cleaned_text  Subjectivity  \\\n",
       "1        is upset that he  update his Facebook by texti...      0.000000   \n",
       "2        I dived many times for the ball Managed to sav...      0.500000   \n",
       "3        no  not behaving at all  mad why am i here bec...      1.000000   \n",
       "4           my whole body feels itchy and like its on fire      0.400000   \n",
       "5                                       not the whole crew      0.400000   \n",
       "...                                                    ...           ...   \n",
       "1598122  Tried to get the mutant Fawkes to follow me bu...      0.700000   \n",
       "1598123                                      Gmail is down      0.288889   \n",
       "1598124  Sounds like a rival is flagging your ads Not m...      0.200000   \n",
       "1598125                        rest in peace Farrah So sad      1.000000   \n",
       "1598126  has to resit exams over summer  wishes he work...      0.166667   \n",
       "\n",
       "         Polarity Sentiment  Sentiment_label  \n",
       "1        0.000000   Neutral                0  \n",
       "2        0.500000   Neutral                0  \n",
       "3       -0.625000  Negative               -1  \n",
       "4        0.200000   Neutral                0  \n",
       "5        0.200000   Neutral                0  \n",
       "...           ...       ...              ...  \n",
       "1598122 -0.100000  Negative               -1  \n",
       "1598123 -0.155556   Neutral                0  \n",
       "1598124 -0.100000   Neutral                0  \n",
       "1598125 -0.500000  Negative               -1  \n",
       "1598126  0.075000   Neutral                0  \n",
       "\n",
       "[1574935 rows x 6 columns]"
      ]
     },
     "execution_count": 16,
     "metadata": {},
     "output_type": "execute_result"
    }
   ],
   "source": [
    "tweets_data"
   ]
  },
  {
   "cell_type": "code",
   "execution_count": null,
   "id": "ff5fdba7",
   "metadata": {},
   "outputs": [],
   "source": [
    "from textblob import TextBlob\n",
    "import pandas as pd\n",
    "\n",
    "# Function to extract the most frequent noun as the topic\n",
    "def extract_topic(text):\n",
    "    blob = TextBlob(text)\n",
    "    nouns = [word for word, pos in blob.tags if pos == 'NN']  # Extract nouns\n",
    "    if nouns:\n",
    "        return max(set(nouns), key=nouns.count)  # Return the most frequent noun\n",
    "    else:\n",
    "        return None\n",
    "\n",
    "# Apply the function to create a new 'topic' column\n",
    "tweets_data['topic'] = tweets_data['cleaned_text'].apply(extract_topic)\n",
    "\n",
    "# Display the DataFrame with the new 'topic' column\n",
    "print(tweets_data)"
   ]
  },
  {
   "cell_type": "code",
   "execution_count": 19,
   "id": "4d614097",
   "metadata": {},
   "outputs": [
    {
     "data": {
      "text/plain": [
       "Index(['date', 'cleaned_text', 'Subjectivity', 'Polarity', 'Sentiment',\n",
       "       'Sentiment_label'],\n",
       "      dtype='object')"
      ]
     },
     "execution_count": 19,
     "metadata": {},
     "output_type": "execute_result"
    }
   ],
   "source": [
    "tweets_data.columns"
   ]
  },
  {
   "cell_type": "code",
   "execution_count": null,
   "id": "bc9082a6",
   "metadata": {},
   "outputs": [],
   "source": [
    "# selecting important features\n",
    "tweets_data = tweets_data[['date', 'cleaned_text', 'Sentiment','Sentiment_label', 'topic']]"
   ]
  },
  {
   "cell_type": "code",
   "execution_count": null,
   "id": "1f6877b5",
   "metadata": {},
   "outputs": [],
   "source": [
    "tweets_data.head()"
   ]
  },
  {
   "cell_type": "code",
   "execution_count": null,
   "id": "3978aa3e",
   "metadata": {},
   "outputs": [],
   "source": [
    "# Save the DataFrame to a CSV file\n",
    "csv_file_path = 'Tweets_with_sentiments.csv'\n",
    "\n",
    "tweets_data.to_csv(csv_file_path, index=False)\n",
    "\n",
    "# Optional: Display a message indicating successful saving\n",
    "print(f\"DataFrame saved to CSV file: {csv_file_path}\")"
   ]
  }
 ],
 "metadata": {
  "kernelspec": {
   "display_name": "Python 3 (ipykernel)",
   "language": "python",
   "name": "python3"
  },
  "language_info": {
   "codemirror_mode": {
    "name": "ipython",
    "version": 3
   },
   "file_extension": ".py",
   "mimetype": "text/x-python",
   "name": "python",
   "nbconvert_exporter": "python",
   "pygments_lexer": "ipython3",
   "version": "3.10.11"
  }
 },
 "nbformat": 4,
 "nbformat_minor": 5
}
